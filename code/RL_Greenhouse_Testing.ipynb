{
 "cells": [
  {
   "cell_type": "code",
   "execution_count": null,
   "metadata": {},
   "outputs": [],
   "source": [
    "import gymnasium as gym\n",
    "env = gym.make(\"CartPole-v1\",render_mode='human')\n",
    "obs = env.reset()\n",
    "obs"
   ]
  },
  {
   "cell_type": "code",
   "execution_count": null,
   "metadata": {},
   "outputs": [],
   "source": [
    "# Gymnasium Testing...\n",
    "import gymnasium as gym\n",
    "import matplotlib.pyplot as plt\n",
    "%matplotlib inline\n",
    "from IPython import display\n",
    "env = gym.make(\"CartPole-v1\",render_mode='rgb_array')\n",
    "env.reset()\n",
    "plt.imshow(env.render())\n",
    "\n",
    "## To show over many steps...\n",
    "# for i in range(25):\n",
    "#    plt.imshow(env.render())\n",
    "#    display.display(plt.gcf())    \n",
    "#    display.clear_output(wait=True)\n",
    "#    env.step(env.action_space.sample()) # take a random action\n",
    "\n",
    "# env.close()"
   ]
  },
  {
   "cell_type": "code",
   "execution_count": 1,
   "metadata": {},
   "outputs": [],
   "source": [
    "# Import the libaries\n",
    "from environment import LettuceGreenhouse\n"
   ]
  },
  {
   "cell_type": "code",
   "execution_count": 3,
   "metadata": {},
   "outputs": [
    {
     "data": {
      "text/plain": [
       "array([[0.00000000e+00, 8.85485192e-04, 7.35236967e+00, 6.84893845e-03],\n",
       "       [4.53360783e-01, 8.95766021e-04, 6.25902870e+00, 6.48157941e-03],\n",
       "       [0.00000000e+00, 9.04982464e-04, 6.63497183e+00, 6.65007438e-03],\n",
       "       ...,\n",
       "       [4.00881855e-01, 8.54383335e-04, 9.42755138e+00, 7.54702439e-03],\n",
       "       [0.00000000e+00, 8.68047254e-04, 9.12147837e+00, 7.50308057e-03],\n",
       "       [4.25566097e-01, 8.41917126e-04, 9.33846314e+00, 7.61488318e-03]])"
      ]
     },
     "execution_count": 3,
     "metadata": {},
     "output_type": "execute_result"
    }
   ],
   "source": [
    "# Set the object for the greenhouse...\n",
    "gh =  LettuceGreenhouse()\n",
    "len(gh.d)\n"
   ]
  },
  {
   "cell_type": "code",
   "execution_count": 9,
   "metadata": {},
   "outputs": [
    {
     "name": "stdout",
     "output_type": "stream",
     "text": [
      "[735609.         735609.00347222 735609.00694444 ... 735932.98611111\n",
      " 735932.98958333 735932.99305556]\n",
      "735609.0\n",
      "0.003472222222221668\n"
     ]
    }
   ],
   "source": [
    "import scipy.io\n",
    "import numpy as np\n",
    "data = scipy.io.loadmat(\"weatherData\\outdoorWeatherWurGlas2014.mat\")\n",
    "D       = data['d']\n",
    "t       = D[:,0]                            # Time [days]\n",
    "print(t)\n",
    "print(t[0])\n",
    "t       = t - t[0]\n",
    "len(t)\n",
    "dt= np.mean(np.diff(t))       # Sample period data [days]\n",
    "print(dt)"
   ]
  },
  {
   "cell_type": "code",
   "execution_count": null,
   "metadata": {},
   "outputs": [],
   "source": [
    "import numpy as np\n",
    "from utils import co2dens2ppm, vaporDens2rh, load_disturbances, DefineParameters\n",
    "import numpy as np\n",
    "from scipy.io import loadmat\n",
    "import statistics\n",
    "from scipy import signal\n",
    "\n"
   ]
  },
  {
   "cell_type": "code",
   "execution_count": null,
   "metadata": {},
   "outputs": [],
   "source": [
    "t = data['d'][:,0]\n",
    "t = t - t[0]  # Days???\n",
    "t[-1]"
   ]
  }
 ],
 "metadata": {
  "kernelspec": {
   "display_name": "Lettuce_GH",
   "language": "python",
   "name": "python3"
  },
  "language_info": {
   "codemirror_mode": {
    "name": "ipython",
    "version": 3
   },
   "file_extension": ".py",
   "mimetype": "text/x-python",
   "name": "python",
   "nbconvert_exporter": "python",
   "pygments_lexer": "ipython3",
   "version": "3.10.11"
  },
  "orig_nbformat": 4
 },
 "nbformat": 4,
 "nbformat_minor": 2
}

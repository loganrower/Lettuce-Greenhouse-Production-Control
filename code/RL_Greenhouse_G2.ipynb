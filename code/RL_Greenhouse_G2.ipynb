{
 "cells": [
  {
   "cell_type": "code",
   "execution_count": 1,
   "metadata": {},
   "outputs": [],
   "source": [
    "# Import the libaries\n",
    "import gymnasium as gym\n",
    "import matplotlib.pyplot as plt\n",
    "%matplotlib inline\n",
    "from IPython import display\n",
    "from environment import LettuceGreenhouse\n",
    "import numpy as np"
   ]
  },
  {
   "cell_type": "code",
   "execution_count": null,
   "metadata": {},
   "outputs": [],
   "source": [
    "# Set the object for the greenhouse...\n",
    "gh =  LettuceGreenhouse()\n",
    "\n",
    "# Reset the environment to get the initial variables and state\n",
    "state = gh.reset()\n",
    "\n",
    "# now what we will do now that the timestep is set to 0 is start a loop\n",
    "## This loop will continue until we have reached the timestep...\n",
    "done = gh.terminal_state()\n",
    "## look at terminal state (should say not done)\n",
    "print(done) # CORRECT \n",
    "\n",
    "# Episode Trajectory:\n",
    "traj = []\n",
    "\n",
    "# Starting Action -> action_tune\n",
    "## Based on the initial state we found the best starting actions to start out\n",
    "## From this point we will utilize our policy in order to change our actions \n",
    "\n",
    "actions = np.array([1.0,.3,.2])\n",
    "\n",
    "# Also have a cumulative reward metric so we can see how well it does...\n",
    "cum_reward = 0 \n",
    "old_state = np.zeros(3)\n",
    "while not done:\n",
    "    ## Step that takes current state, and the action and computes the next state\n",
    "    new_state, reward, done, _ = gh.step(actions)\n",
    "    # Then using the policy function we will take this new_state and the current action and compute the next action\n",
    "    ## next action is based on the policy and is going to be the input into the step function...\n",
    "    actions = gh.policy_function(new_state, actions)\n",
    "    # add to the cumulative reward\n",
    "    cum_reward +=reward\n",
    "\n",
    "print(\"Cumulative Reward:\", cum_reward)\n",
    "#gh.printer()\n"
   ]
  },
  {
   "cell_type": "code",
   "execution_count": null,
   "metadata": {},
   "outputs": [],
   "source": []
  },
  {
   "cell_type": "code",
   "execution_count": null,
   "metadata": {},
   "outputs": [],
   "source": []
  }
 ],
 "metadata": {
  "kernelspec": {
   "display_name": "Python 3 (ipykernel)",
   "language": "python",
   "name": "python3"
  },
  "language_info": {
   "codemirror_mode": {
    "name": "ipython",
    "version": 3
   },
   "file_extension": ".py",
   "mimetype": "text/x-python",
   "name": "python",
   "nbconvert_exporter": "python",
   "pygments_lexer": "ipython3",
   "version": "3.10.11"
  }
 },
 "nbformat": 4,
 "nbformat_minor": 2
}

{
 "cells": [
  {
   "cell_type": "code",
   "execution_count": 22,
   "metadata": {},
   "outputs": [
    {
     "data": {
      "text/plain": [
       "(array([-0.00525033,  0.04769389,  0.03178788, -0.03553285], dtype=float32),\n",
       " {})"
      ]
     },
     "execution_count": 22,
     "metadata": {},
     "output_type": "execute_result"
    }
   ],
   "source": [
    "import gymnasium as gym\n",
    "env = gym.make(\"CartPole-v1\",render_mode='human')\n",
    "obs = env.reset()\n",
    "obs"
   ]
  },
  {
   "cell_type": "code",
   "execution_count": 32,
   "metadata": {},
   "outputs": [
    {
     "data": {
      "text/plain": [
       "<matplotlib.image.AxesImage at 0x1ca9b68b250>"
      ]
     },
     "execution_count": 32,
     "metadata": {},
     "output_type": "execute_result"
    },
    {
     "data": {
      "image/png": "[encoded data removed]",
      "text/plain": [
       "<Figure size 640x480 with 1 Axes>"
      ]
     },
     "metadata": {},
     "output_type": "display_data"
    }
   ],
   "source": [
    "# Gymnasium Testing...\n",
    "import gymnasium as gym\n",
    "import matplotlib.pyplot as plt\n",
    "%matplotlib inline\n",
    "from IPython import display\n",
    "env = gym.make(\"CartPole-v1\",render_mode='rgb_array')\n",
    "env.reset()\n",
    "plt.imshow(env.render())\n",
    "\n",
    "## To show over many steps...\n",
    "# for i in range(25):\n",
    "#    plt.imshow(env.render())\n",
    "#    display.display(plt.gcf())    \n",
    "#    display.clear_output(wait=True)\n",
    "#    env.step(env.action_space.sample()) # take a random action\n",
    "\n",
    "# env.close()"
   ]
  },
  {
   "cell_type": "code",
   "execution_count": null,
   "metadata": {},
   "outputs": [],
   "source": [
    "# Import the libaries\n",
    "from environment import LettuceGreenhouse\n"
   ]
  },
  {
   "cell_type": "code",
   "execution_count": null,
   "metadata": {},
   "outputs": [],
   "source": [
    "# Set the object for the greenhouse...\n",
    "gh =  LettuceGreenhouse()\n"
   ]
  },
  {
   "cell_type": "code",
   "execution_count": 4,
   "metadata": {},
   "outputs": [],
   "source": [
    "import scipy.io\n",
    "data = scipy.io.loadmat(\"weatherData\\outdoorWeatherWurGlas2014.mat\")"
   ]
  },
  {
   "cell_type": "code",
   "execution_count": 45,
   "metadata": {},
   "outputs": [
    {
     "data": {
      "text/plain": [
       "(213, 4)"
      ]
     },
     "execution_count": 45,
     "metadata": {},
     "output_type": "execute_result"
    }
   ],
   "source": [
    "import numpy as np\n",
    "from utils import co2dens2ppm, vaporDens2rh, load_disturbances, DefineParameters\n",
    "import numpy as np\n",
    "from scipy.io import loadmat\n",
    "import statistics\n",
    "from scipy import signal\n",
    "\n",
    "weather_data_dir=\"weatherData\\outdoorWeatherWurGlas2014.mat\"\n",
    "ny=4                 # number of greenhouse measurement variables\n",
    "nx=4                 # number of state variables\n",
    "nd=4                 # number of disturbance (weather variables)\n",
    "nu=3                 # number of control inputs\n",
    "h=15*60              # sampling period (15 minutes, 900 seconds...)\n",
    "c=86400              # conversion to seconds\n",
    "nDays=2              # simulation days\n",
    "Np=20                # number of future predictions (20 == 5hrs)\n",
    "startDay=40          # start day of simulation\n",
    "L = nDays*c\n",
    "d = load_disturbances(c, L, h , nd, Np, startDay, weather_data_dir)\n",
    "time_step = 0\n",
    "d.shape # 213 rows based on the fact that from 0 to 192 and then 20 extra to 213 so we basically just have a length of 213 rows in total with the 20 extra..\n"
   ]
  },
  {
   "cell_type": "code",
   "execution_count": 16,
   "metadata": {},
   "outputs": [
    {
     "data": {
      "text/plain": [
       "323.9930555555038"
      ]
     },
     "execution_count": 16,
     "metadata": {},
     "output_type": "execute_result"
    }
   ],
   "source": [
    "t = data['d'][:,0]\n",
    "t = t - t[0]  # Days???\n",
    "t[-1]"
   ]
  },
  {
   "cell_type": "code",
   "execution_count": null,
   "metadata": {},
   "outputs": [],
   "source": []
  }
 ],
 "metadata": {
  "kernelspec": {
   "display_name": "WUR",
   "language": "python",
   "name": "python3"
  },
  "language_info": {
   "codemirror_mode": {
    "name": "ipython",
    "version": 3
   },
   "file_extension": ".py",
   "mimetype": "text/x-python",
   "name": "python",
   "nbconvert_exporter": "python",
   "pygments_lexer": "ipython3",
   "version": "3.10.11"
  },
  "orig_nbformat": 4
 },
 "nbformat": 4,
 "nbformat_minor": 2
}

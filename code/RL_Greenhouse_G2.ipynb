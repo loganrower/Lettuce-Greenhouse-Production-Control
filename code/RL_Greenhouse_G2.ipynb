{
 "cells": [
  {
   "cell_type": "code",
   "execution_count": null,
   "metadata": {},
   "outputs": [],
   "source": []
  },
  {
   "cell_type": "code",
   "execution_count": null,
   "metadata": {},
   "outputs": [],
   "source": [
    "# Import the libaries\n",
    "from environment import LettuceGreenhouse\n"
   ]
  },
  {
   "cell_type": "code",
   "execution_count": null,
   "metadata": {},
   "outputs": [],
   "source": [
    "# Set the object for the greenhouse...\n",
    "gh =  LettuceGreenhouse()\n"
   ]
  },
  {
   "cell_type": "code",
   "execution_count": 4,
   "metadata": {},
   "outputs": [],
   "source": [
    "import scipy.io\n",
    "data = scipy.io.loadmat(\"weatherData\\outdoorWeatherWurGlas2014.mat\")"
   ]
  },
  {
   "cell_type": "code",
   "execution_count": 8,
   "metadata": {},
   "outputs": [
    {
     "data": {
      "text/plain": [
       "{'__header__': b'MATLAB 5.0 MAT-file, Platform: PCWIN64, Created on: Thu May  6 20:44:28 2021',\n",
       " '__version__': '1.0',\n",
       " '__globals__': [],\n",
       " 'd': array([[7.35609000e+05, 0.00000000e+00, 7.50000000e+00, 7.41000000e+01,\n",
       "         1.00000000e+01, 4.37000000e+02],\n",
       "        [7.35609003e+05, 0.00000000e+00, 7.50000001e+00, 7.36999999e+01,\n",
       "         1.00000000e+01, 4.44400000e+02],\n",
       "        [7.35609007e+05, 0.00000000e+00, 7.59999999e+00, 7.26000001e+01,\n",
       "         1.00000000e+01, 4.43800000e+02],\n",
       "        ...,\n",
       "        [7.35932986e+05, 0.00000000e+00, 2.60000000e+00, 9.56000000e+01,\n",
       "         4.30000002e+00, 5.45699999e+02],\n",
       "        [7.35932990e+05, 0.00000000e+00, 2.59999999e+00, 9.53000001e+01,\n",
       "         4.80000005e+00, 5.30499998e+02],\n",
       "        [7.35932993e+05, 0.00000000e+00, 2.50000001e+00, 9.66999998e+01,\n",
       "         5.29999993e+00, 5.10900003e+02]])}"
      ]
     },
     "execution_count": 8,
     "metadata": {},
     "output_type": "execute_result"
    }
   ],
   "source": [
    "data"
   ]
  },
  {
   "cell_type": "code",
   "execution_count": 16,
   "metadata": {},
   "outputs": [
    {
     "data": {
      "text/plain": [
       "323.9930555555038"
      ]
     },
     "execution_count": 16,
     "metadata": {},
     "output_type": "execute_result"
    }
   ],
   "source": [
    "t = data['d'][:,0]\n",
    "t = t - t[0]  # Days???\n",
    "t[-1]"
   ]
  },
  {
   "cell_type": "code",
   "execution_count": null,
   "metadata": {},
   "outputs": [],
   "source": []
  }
 ],
 "metadata": {
  "kernelspec": {
   "display_name": "WUR",
   "language": "python",
   "name": "python3"
  },
  "language_info": {
   "codemirror_mode": {
    "name": "ipython",
    "version": 3
   },
   "file_extension": ".py",
   "mimetype": "text/x-python",
   "name": "python",
   "nbconvert_exporter": "python",
   "pygments_lexer": "ipython3",
   "version": "3.7.13"
  },
  "orig_nbformat": 4
 },
 "nbformat": 4,
 "nbformat_minor": 2
}
